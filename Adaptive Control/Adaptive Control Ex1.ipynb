{
 "cells": [
  {
   "cell_type": "markdown",
   "metadata": {},
   "source": [
    "<h2>Adaptive Control</h2>\n",
    "Before using this document as a reference, please note that I'm just a student trying out more advanced control algorithms. Please let me know if there are any issues/holes with any of the formulation/theory that has been posted here. We are all here to learn :)\n",
    "<h3>Define functions required </h3>\n",
    "<pr>We first define all the required numerical methods that will be used in the main part of the program. Also, we define our mathematical model here. </pr>"
   ]
  },
  {
   "cell_type": "code",
   "execution_count": null,
   "metadata": {},
   "outputs": [],
   "source": [
    "import numpy as np \n",
    "import scipy as sp \n",
    "from matplotlib import pyplot as plt \n",
    "\n",
    "def f(q0, u, k):\n",
    "    g = 9.81 \n",
    "    if k == 0:\n",
    "        m = 15\n",
    "    else: \n",
    "        m = 5\n",
    "    l = 0.5 \n",
    "    T_in = u \n",
    "    q, q2 = q0 \n",
    "    q_2dot = -g*l*np.sin(q) + T_in/m \n",
    "    q_dot = q2  \n",
    "\n",
    "    return np.array([q_dot, q_2dot])\n",
    "\n",
    "def rk4(x0, u, h,  flag):\n",
    "    k1 = f(x0, u, flag)\n",
    "    k2 = f(x0 + h*(k1/2), u, flag)\n",
    "    k3 = f(x0 + h*(k2/2), u, flag)\n",
    "    k4 = f(x0 + h*k3, u, flag)\n",
    "\n",
    "    return h*((k1 + 2*k2 + 2*k3 + k4)/6)\n",
    "\n",
    "def euler_diff(x, y, h):\n",
    "    diff = (x-y)/h \n",
    "    return diff \n",
    "\n",
    "def euler_int(x0,dx,h):\n",
    "    x0 = x0+dx*h\n",
    "    return x0"
   ]
  },
  {
   "cell_type": "markdown",
   "metadata": {},
   "source": [
    "<h3>Define parameters required </h3> <pr>Over here, we have to define all the required terms that will be used in the control law itself. Note that the adaptive law here is $\\hat{\\theta}$. So, we need to integrate $\\dot{\\hat{\\theta}}$ so that our system to adapt to its unknown parameters. In this case, we use Euler integration to integrate $$\\int_0^T \\dot{\\hat{\\theta}} dt$$. The other terms here are further explained in the other LaTeX pdf file in this folder. One last thing to note here is that the term \"flag\" changes our unknown parameters midway through the simulation.</pr>"
   ]
  },
  {
   "cell_type": "code",
   "execution_count": null,
   "metadata": {},
   "outputs": [],
   "source": [
    "l = 0.5\n",
    "m = 15 \n",
    "g = 9.81 \n",
    "N = 250\n",
    "x0 = np.array([0.2, 0.2])\n",
    "t = np.zeros(N+1) \n",
    "e = np.zeros(N+1)\n",
    "u = np.zeros(N+1)\n",
    "x = np.zeros([N+1,2])\n",
    "h = 0.05\n",
    "alpha = 5 # for filter tracking error\n",
    "gamma = np.array([[3,0],[0,3]])\n",
    "gamma_inv = np.linalg.inv(gamma)\n",
    "k = 100\n",
    "r = np.zeros(N+1)\n",
    "sim_t = 0 \n",
    "x[0] = x0\n",
    "trajectory = np.zeros(N+1) \n",
    "e_dot = np.zeros(N+1)\n",
    "Y = np.zeros([N+1,2])\n",
    "theta_hat_dot = np.zeros([N+1, 2])\n",
    "theta_hat = np.zeros([N+1,2]) \n",
    "theta_hat[0] = np.array([0, 0])\n",
    "V_dot = np.zeros(N+1) #Lyapunov derivative\n",
    "V = np.zeros(N+1) #Lyapunov \n",
    "theta = np.array([m, m*l])\n",
    "flag = 0 "
   ]
  },
  {
   "cell_type": "markdown",
   "metadata": {},
   "source": [
    "<h3>Run through simulation. </h3> <pr> The simulation here is written in a way such that we update our states of the system iteratively. Most importantly, we create our trajectory here as a function of time for our controller to track. </pr> "
   ]
  },
  {
   "cell_type": "code",
   "execution_count": null,
   "metadata": {},
   "outputs": [],
   "source": [
    "for i in range(N):\n",
    "    sim_t += h\n",
    "    t[i+1] = sim_t\n",
    "    # trajectory[i+1] = 0.85 - 0.85*np.exp(-t[i+1]) \n",
    "    trajectory[i+1] = 0.5*np.sin(t[i+1]) + 0.5*np.cos(0.5*t[i+1]) #generate some trajectory\n",
    "    e[i+1] = trajectory[i+1] - x[i,0]\n",
    "    if i > 0:\n",
    "        e_dot[i+1] = euler_diff(e[i+1], e[i], h) #only start differentiation at iteration 2 \n",
    "    r[i+1] = e_dot[i+1] + alpha*e[i+1]\n",
    "    Y[i+1, 0] = trajectory[i+1] + alpha*e[i+1]\n",
    "    Y[i+1, 1] = g*np.sin(x[i, 0])\n",
    "    Y_T = np.transpose(Y[i+1])\n",
    "    theta_hat_dot[i+1] = np.dot(gamma,Y[i+1])*r[i+1] \n",
    "    theta_hat[i+1] = euler_int(theta_hat[i] ,theta_hat_dot[i+1], h)\n",
    "    u[i] = np.dot(Y_T, theta_hat[i+1]) + k*r[i+1]\n",
    "    if i > 100:\n",
    "        flag = 1\n",
    "    x0 = x0 + rk4(x0, u[i], h, flag)\n",
    "    x[i+1] = x0 \n",
    "    v = 0.5*m*r[i+1]**2 + 0.5*np.dot(np.dot((theta-theta_hat[i+1]), gamma_inv), np.transpose(theta-theta_hat[i+1]))\n",
    "    V[i+1] = v\n",
    "    vdot = -k*r[i+1]**2\n",
    "    V_dot[i+1] = vdot"
   ]
  },
  {
   "cell_type": "markdown",
   "metadata": {},
   "source": [
    "<h3>Plot Results </h3>"
   ]
  },
  {
   "cell_type": "code",
   "execution_count": null,
   "metadata": {},
   "outputs": [],
   "source": [
    "plt.plot(t, x[:,0], 'blue', label = 'Position')\n",
    "plt.plot(t, trajectory, 'green', label = 'Reference Trajectory')\n",
    "plt.plot(t, e, 'red', label = 'Error')\n",
    "plt.xlabel(\"Time(s)\", fontsize = 10)\n",
    "plt.legend(fontsize = 10)\n",
    "plt.xticks(fontsize = 10)\n",
    "plt.yticks(fontsize = 10)\n",
    "plt.show()\n",
    "\n",
    "plt.plot(t, theta_hat[:,0], label = 'm(kg)')\n",
    "plt.plot(t, theta_hat[:,1], label = 'ml(kg . m)')\n",
    "plt.legend(fontsize = 10)\n",
    "plt.xlabel(\"Time(s)\", fontsize = 10)\n",
    "plt.ylabel(\"Estimation of Parameters\", fontsize = 10)\n",
    "plt.xticks(fontsize = 10)\n",
    "plt.yticks(fontsize = 10)\n",
    "plt.show()\n",
    "\n",
    "plt.plot(t, V_dot, label = 'Lyapunov Function Derivative')\n",
    "plt.plot(t, V, label = 'Lyapunov Function')\n",
    "plt.xlabel(\"Time(s)\", fontsize = 10)\n",
    "plt.legend(fontsize = 10, loc = 'lower right')\n",
    "plt.xticks(fontsize = 10)\n",
    "plt.yticks(fontsize = 10)\n",
    "plt.show()"
   ]
  },
  {
   "cell_type": "markdown",
   "metadata": {},
   "source": [
    "<h3>Final Comments</h3>\n",
    "<pr>As we can see here, the estimation of parameters do not necessarily converge to the true value. More importantly, we can see that our system is actually stable. We can further tune our systems to get even better tracking performances. Our Lyapunov function $V$ and its derivative $\\dot{V}$ is positive definite and negative semidefinite respectively.</pr>"
   ]
  },
  {
   "cell_type": "code",
   "execution_count": null,
   "metadata": {},
   "outputs": [],
   "source": []
  }
 ],
 "metadata": {
  "kernelspec": {
   "display_name": "Python 3",
   "language": "python",
   "name": "python3"
  },
  "language_info": {
   "codemirror_mode": {
    "name": "ipython",
    "version": 3
   },
   "file_extension": ".py",
   "mimetype": "text/x-python",
   "name": "python",
   "nbconvert_exporter": "python",
   "pygments_lexer": "ipython3",
   "version": "3.8.0"
  }
 },
 "nbformat": 4,
 "nbformat_minor": 4
}
